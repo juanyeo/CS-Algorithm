{
 "cells": [
  {
   "cell_type": "markdown",
   "metadata": {
    "id": "5wsea-jUERFH"
   },
   "source": [
    "# 자료구조 1. 배열\n",
    "\n",
    "---\n",
    "파이썬은 list 타입으로 배열 구현    \n",
    "**장점:** index 로 조회 (빠름)  \n",
    "**단점:** 정해진 길이, 추가와 삭제 어려움 -> 파이썬에선 이런 단점 X (list != array)"
   ]
  },
  {
   "cell_type": "code",
   "execution_count": 1,
   "metadata": {
    "id": "Hiryglk7ESry"
   },
   "outputs": [],
   "source": [
    "list_1d = [2,3,5,7,11]\n",
    "list_2d = [[2, 4, 8], [3, 9, 27], [4, 16, 64]]"
   ]
  },
  {
   "cell_type": "code",
   "execution_count": 2,
   "metadata": {
    "colab": {
     "base_uri": "https://localhost:8080/"
    },
    "id": "dzaAUQciGNZ8",
    "outputId": "324a4f1a-cf5e-4008-fc55-73265d5735a3"
   },
   "outputs": [
    {
     "name": "stdout",
     "output_type": "stream",
     "text": [
      "2\n"
     ]
    }
   ],
   "source": [
    "print(list_1d[0])"
   ]
  },
  {
   "cell_type": "code",
   "execution_count": 4,
   "metadata": {
    "colab": {
     "base_uri": "https://localhost:8080/"
    },
    "id": "46T2-QBVGb-5",
    "outputId": "1d136658-a10c-47d6-a5b0-a68a9107bf44"
   },
   "outputs": [
    {
     "name": "stdout",
     "output_type": "stream",
     "text": [
      "[2, 4, 8]\n"
     ]
    }
   ],
   "source": [
    "print(list_2d[0])"
   ]
  },
  {
   "cell_type": "code",
   "execution_count": 5,
   "metadata": {
    "colab": {
     "base_uri": "https://localhost:8080/"
    },
    "id": "VLKeI7aZGdzi",
    "outputId": "fd36554a-b606-48c0-8cb2-82a39091fb1d"
   },
   "outputs": [
    {
     "name": "stdout",
     "output_type": "stream",
     "text": [
      "4\n"
     ]
    }
   ],
   "source": [
    "print(list_2d[0][1])"
   ]
  },
  {
   "cell_type": "code",
   "execution_count": 7,
   "metadata": {
    "colab": {
     "base_uri": "https://localhost:8080/"
    },
    "id": "P4U4Y_nXGhWr",
    "outputId": "25476db6-25a8-43c2-ae84-30f38fb8c545"
   },
   "outputs": [
    {
     "name": "stdout",
     "output_type": "stream",
     "text": [
      "[[2, 5, 9], [3, 10, 28], [4, 17, 65]]\n"
     ]
    }
   ],
   "source": [
    "for e1 in range(len(list_2d)):\n",
    "  for e2 in range(1,len(list_2d[e1])):\n",
    "    list_2d[e1][e2] += 1\n",
    "\n",
    "print(list_2d)"
   ]
  },
  {
   "cell_type": "markdown",
   "metadata": {
    "id": "5wsea-jUERFH"
   },
   "source": [
    "# 자료구조 2. 큐 (Queue)\n",
    "\n",
    "---\n",
    "FIFO 정책, 양쪽이 뚫린 파이프 구조  \n",
    "**설명:** enqueue와 dequeue로 데이터를 넣고 뺀다  \n",
    "**파이썬:** Queue(기본), LifoQueue(LIFO), PriorityQueue(우선순위로 넣고 뺌) 등의 라이브러리가 있다  \n",
    "**용도:** 운영체제 - 멀티 태스킹을 위한 프로세스 스케쥴링"
   ]
  },
  {
   "cell_type": "code",
   "execution_count": 10,
   "metadata": {
    "id": "78PN_UGPHESi"
   },
   "outputs": [],
   "source": [
    "import queue\n",
    "\n",
    "# 1. 기본 큐\n",
    "queue_ = queue.Queue()\n",
    "\n",
    "queue_.put(1)\n",
    "queue_.put(3)"
   ]
  },
  {
   "cell_type": "code",
   "execution_count": 11,
   "metadata": {},
   "outputs": [
    {
     "data": {
      "text/plain": [
       "2"
      ]
     },
     "execution_count": 11,
     "metadata": {},
     "output_type": "execute_result"
    }
   ],
   "source": [
    "queue_.qsize()"
   ]
  },
  {
   "cell_type": "code",
   "execution_count": 12,
   "metadata": {},
   "outputs": [
    {
     "data": {
      "text/plain": [
       "1"
      ]
     },
     "execution_count": 12,
     "metadata": {},
     "output_type": "execute_result"
    }
   ],
   "source": [
    "queue_.get()"
   ]
  },
  {
   "cell_type": "code",
   "execution_count": 13,
   "metadata": {},
   "outputs": [
    {
     "data": {
      "text/plain": [
       "1"
      ]
     },
     "execution_count": 13,
     "metadata": {},
     "output_type": "execute_result"
    }
   ],
   "source": [
    "queue_.qsize()"
   ]
  },
  {
   "cell_type": "code",
   "execution_count": 15,
   "metadata": {},
   "outputs": [],
   "source": [
    "# 2. LIFO 큐\n",
    "queue_lifo = queue.LifoQueue()\n",
    "\n",
    "queue_lifo.put(1)\n",
    "queue_lifo.put(3)"
   ]
  },
  {
   "cell_type": "code",
   "execution_count": 16,
   "metadata": {},
   "outputs": [
    {
     "data": {
      "text/plain": [
       "3"
      ]
     },
     "execution_count": 16,
     "metadata": {},
     "output_type": "execute_result"
    }
   ],
   "source": [
    "queue_lifo.get()"
   ]
  },
  {
   "cell_type": "code",
   "execution_count": 17,
   "metadata": {},
   "outputs": [],
   "source": [
    "# 3. Priority 큐\n",
    "queue_lifo = queue.PriorityQueue()\n",
    "\n",
    "# 튜플로 값을 넣음 (우선순위, 데이터)\n",
    "queue_lifo.put((4, \"Apple\"))\n",
    "queue_lifo.put((2, \"Orange\"))\n",
    "queue_lifo.put((8, 11))"
   ]
  },
  {
   "cell_type": "code",
   "execution_count": 18,
   "metadata": {},
   "outputs": [
    {
     "data": {
      "text/plain": [
       "(2, 'Orange')"
      ]
     },
     "execution_count": 18,
     "metadata": {},
     "output_type": "execute_result"
    }
   ],
   "source": [
    "queue_lifo.get()"
   ]
  },
  {
   "cell_type": "code",
   "execution_count": 19,
   "metadata": {},
   "outputs": [],
   "source": [
    "# enqueue, dequeue 기능 구현해보기\n",
    "\n",
    "queue_py = list()\n",
    "\n",
    "def enqueue(element):\n",
    "    queue_py.append(element)\n",
    "    \n",
    "def dequeue():\n",
    "    out = queue_py[0]\n",
    "    queue_py.pop(0)\n",
    "    \n",
    "    return out"
   ]
  },
  {
   "cell_type": "code",
   "execution_count": 20,
   "metadata": {},
   "outputs": [
    {
     "name": "stdout",
     "output_type": "stream",
     "text": [
      "[0, 1, 2, 3, 4, 5, 6, 7]\n"
     ]
    }
   ],
   "source": [
    "for i in range(8):\n",
    "    enqueue(i)\n",
    "\n",
    "print(queue_py)"
   ]
  },
  {
   "cell_type": "code",
   "execution_count": 21,
   "metadata": {},
   "outputs": [
    {
     "data": {
      "text/plain": [
       "0"
      ]
     },
     "execution_count": 21,
     "metadata": {},
     "output_type": "execute_result"
    }
   ],
   "source": [
    "dequeue()"
   ]
  },
  {
   "cell_type": "code",
   "execution_count": 22,
   "metadata": {},
   "outputs": [
    {
     "data": {
      "text/plain": [
       "[1, 2, 3, 4, 5, 6, 7]"
      ]
     },
     "execution_count": 22,
     "metadata": {},
     "output_type": "execute_result"
    }
   ],
   "source": [
    "queue_py"
   ]
  },
  {
   "cell_type": "markdown",
   "metadata": {},
   "source": [
    "# 자료구조 3. 스택 (Stack)\n",
    "\n",
    "---\n",
    "LIFO 정책, 한쪽이 막힌 파이프 구조  \n",
    "**설명:** push와 pop로 데이터를 넣고 뺀다  \n",
    "**장점:** 구조가 단순하다, 속도가 빠르다  \n",
    "**단점:** 최대 갯수가 한정된다 (파이썬 재귀함수는 1000번이 한계), 저장 공간의 낭비(최대 갯수 만큼)  \n",
    "**용도:** 프로세스가 함수를 실행하는 방식, 시스템프로그래밍 수업"
   ]
  },
  {
   "cell_type": "code",
   "execution_count": 24,
   "metadata": {},
   "outputs": [
    {
     "name": "stdout",
     "output_type": "stream",
     "text": [
      "3\n",
      "2\n",
      "1\n",
      "0\n",
      "end\n",
      "return  0\n",
      "return  1\n",
      "return  2\n",
      "return  3\n"
     ]
    }
   ],
   "source": [
    "# 프로그래밍언어론 수업에서 다룬 것처럼 함수가 실행될 때 recursive(-1), recursive(0) ... recursive(3) 순으로 스택에 저장, 실행된다\n",
    "def recursive(data):\n",
    "    if data < 0:\n",
    "        print(\"end\")\n",
    "    else:\n",
    "        print(data)\n",
    "        recursive(data - 1)\n",
    "        print(\"return \", data)\n",
    "\n",
    "recursive(3)"
   ]
  },
  {
   "cell_type": "code",
   "execution_count": 26,
   "metadata": {},
   "outputs": [],
   "source": [
    "# 파이썬으로 스택 사용\n",
    "stack_ = list()\n",
    "\n",
    "stack_.append(1)\n",
    "stack_.append(2) # 파이썬 list의 append()가 push와 같은 역할을 한다"
   ]
  },
  {
   "cell_type": "code",
   "execution_count": 27,
   "metadata": {},
   "outputs": [
    {
     "data": {
      "text/plain": [
       "2"
      ]
     },
     "execution_count": 27,
     "metadata": {},
     "output_type": "execute_result"
    }
   ],
   "source": [
    "stack_.pop()"
   ]
  },
  {
   "cell_type": "code",
   "execution_count": 28,
   "metadata": {},
   "outputs": [],
   "source": [
    "# 파이썬으로 pop, push 직접 구현\n",
    "stack_ = list()\n",
    "\n",
    "def push(element):\n",
    "    stack_.append(element)\n",
    "    \n",
    "def pop():\n",
    "    element = stack_[-1]\n",
    "    del stack_[-1]\n",
    "    \n",
    "    return element"
   ]
  },
  {
   "cell_type": "code",
   "execution_count": 29,
   "metadata": {},
   "outputs": [],
   "source": [
    "for i in range(8):\n",
    "    push(i)"
   ]
  },
  {
   "cell_type": "code",
   "execution_count": 30,
   "metadata": {},
   "outputs": [
    {
     "data": {
      "text/plain": [
       "7"
      ]
     },
     "execution_count": 30,
     "metadata": {},
     "output_type": "execute_result"
    }
   ],
   "source": [
    "pop()"
   ]
  },
  {
   "cell_type": "markdown",
   "metadata": {},
   "source": [
    "# 자료구조 4. 링크드 리스트 (Linked List)\n",
    "\n",
    "---\n",
    "데이터와 다음 노드의 포인터를 저장하여 연결하는 리스트  \n",
    "배열 : 연결된 공간에 저장, 링크드리스트 : 미리 공간예약 X, 필요할 때마다 추가  \n",
    "**node = data + pointer**  \n",
    "**장점:** 공간을 미리 할당할 필요가 없다  \n",
    "**단점:** 포인터까지 저장해야 해서 공간이 더 필요하다, 검색이 느리다, 중간에 데이터 삭제/추가 시 연결을 재구성해야 해서 번거롭다  "
   ]
  },
  {
   "cell_type": "code",
   "execution_count": 1,
   "metadata": {},
   "outputs": [],
   "source": [
    "# Linked List 구현\n",
    "class Node:\n",
    "    def __init__(self, data, next=None):\n",
    "        self.data = data\n",
    "        self.next = next\n",
    "        \n",
    "node1 = Node(1)\n",
    "node2 = Node(2)\n",
    "\n",
    "node1.next = node2\n",
    "head = node1"
   ]
  },
  {
   "cell_type": "code",
   "execution_count": 3,
   "metadata": {},
   "outputs": [],
   "source": [
    "def add(data):\n",
    "    node = head\n",
    "    while node.next:\n",
    "        node = node.next\n",
    "    # 마지막 노드의 주소에 새로운 노드 더함\n",
    "    node.next = Node(data)\n",
    "    \n",
    "def print_all():\n",
    "    node = head\n",
    "    while node.next:\n",
    "        print(node.data)\n",
    "        node = node.next\n",
    "    print(node.data)"
   ]
  },
  {
   "cell_type": "code",
   "execution_count": 5,
   "metadata": {},
   "outputs": [],
   "source": [
    "def add_after(data, prev):\n",
    "    node = head\n",
    "    search = True\n",
    "    while search:\n",
    "        if node.data == prev:\n",
    "            search = False\n",
    "        else:\n",
    "            node = node.next\n",
    "    next_node = node.next\n",
    "    node.next = Node(data, next_node)\n",
    "\n",
    "add_after(8, 2) # 1 2 3 -> 1 2 8 3"
   ]
  },
  {
   "cell_type": "code",
   "execution_count": 14,
   "metadata": {},
   "outputs": [],
   "source": [
    "class Node:\n",
    "    def __init__(self, data, next=None):\n",
    "        self.data = data\n",
    "        self.next = next\n",
    "        \n",
    "class NodeManager:\n",
    "    def __init__(self, data):\n",
    "        self.head = Node(data)\n",
    "        \n",
    "    def add(self, data):\n",
    "        if self.head == '':\n",
    "            self.head = Node(data)\n",
    "        else:\n",
    "            node = self.head\n",
    "            while node.next:\n",
    "                node = node.next\n",
    "            node.next = Node(data)\n",
    "            \n",
    "    def print_all(self):\n",
    "        node = self.head\n",
    "        while node:\n",
    "            print(node.data)\n",
    "            node = node.next\n",
    "            \n",
    "    def delete(self, data):\n",
    "        if self.head == '':\n",
    "            print(\"node not found\")\n",
    "            return\n",
    "        if self.head.data == data:\n",
    "            temp = self.head\n",
    "            self.head = self.head.next\n",
    "            del temp\n",
    "        else:\n",
    "            node = self.head\n",
    "            while node.next:\n",
    "                if node.next.data == data:\n",
    "                    temp = node.next\n",
    "                    node.next = node.next.next\n",
    "                    del temp\n",
    "                node = node.next\n",
    "                \n",
    "    def search(self, data):\n",
    "        index = 0\n",
    "        node = self.head\n",
    "        while node:\n",
    "            if node.data == data:\n",
    "                return index \n",
    "            node = node.next\n",
    "            index += 1\n",
    "        return None"
   ]
  },
  {
   "cell_type": "code",
   "execution_count": 16,
   "metadata": {},
   "outputs": [
    {
     "name": "stdout",
     "output_type": "stream",
     "text": [
      "0\n",
      "4\n"
     ]
    }
   ],
   "source": [
    "linked_list_1 = NodeManager(0)\n",
    "\n",
    "linked_list_1.add(2)\n",
    "linked_list_1.add(4)\n",
    "\n",
    "linked_list_1.delete(2)\n",
    "linked_list_1.print_all()"
   ]
  },
  {
   "cell_type": "markdown",
   "metadata": {},
   "source": [
    "# 자료구조 4. 더블 링크드 리스트 (Double Linked List)\n",
    "\n",
    "---\n",
    "앞뒤에 포인터가 있어서 뒤에서부터 검색할 수 있는 링크드 리스트"
   ]
  },
  {
   "cell_type": "code",
   "execution_count": 42,
   "metadata": {},
   "outputs": [],
   "source": [
    "class Node2:\n",
    "    def __init__(self, data, prev=None, next=None):\n",
    "        self.data = data\n",
    "        self.prev = prev\n",
    "        self.next = next\n",
    "\n",
    "class Node2Manager:\n",
    "    def __init__(self, data):\n",
    "        self.head = Node2(data)\n",
    "        self.tail = self.head\n",
    "        \n",
    "    def insert(self, data):\n",
    "        if self.head == None:\n",
    "            self.head = Node2(data)\n",
    "            self.tail = self.head\n",
    "        else:\n",
    "            node = self.head\n",
    "            while node.next:\n",
    "                node = node.next\n",
    "            next_node = Node2(data, node)\n",
    "            node.next = next_node\n",
    "            self.tail = next_node\n",
    "            \n",
    "    def insert_before(self, data, after):\n",
    "        if self.head == None:\n",
    "            self.head = Node2(data)\n",
    "        node = self.tail\n",
    "        while node:\n",
    "            if node.data == after:\n",
    "                before_node = Node2(data)\n",
    "                before_node.prev = node.prev\n",
    "                before_node.next = node\n",
    "                node.prev.next = before_node\n",
    "                node.prev = before_node\n",
    "                break\n",
    "            node = node.prev\n",
    "            \n",
    "    def print_all(self):\n",
    "        node = self.head\n",
    "        while node:\n",
    "            print(node.data)\n",
    "            node = node.next\n",
    "    \n",
    "    def search_from_tail(self, data):\n",
    "        node = self.tail\n",
    "        while node:\n",
    "            if node.data == data:\n",
    "                return node\n",
    "            node = node.prev\n",
    "        return None"
   ]
  },
  {
   "cell_type": "code",
   "execution_count": 43,
   "metadata": {},
   "outputs": [
    {
     "name": "stdout",
     "output_type": "stream",
     "text": [
      "0\n",
      "8\n",
      "2\n",
      "4\n"
     ]
    }
   ],
   "source": [
    "linked_list_2 = Node2Manager(0)\n",
    "\n",
    "linked_list_2.insert(2)\n",
    "linked_list_2.insert(4)\n",
    "linked_list_2.insert_before(8, 2)\n",
    "\n",
    "linked_list_2.print_all()"
   ]
  },
  {
   "cell_type": "code",
   "execution_count": null,
   "metadata": {},
   "outputs": [],
   "source": []
  }
 ],
 "metadata": {
  "colab": {
   "collapsed_sections": [],
   "name": "자료구조모음.ipynb",
   "provenance": []
  },
  "kernelspec": {
   "display_name": "Python 3",
   "language": "python",
   "name": "python3"
  },
  "language_info": {
   "codemirror_mode": {
    "name": "ipython",
    "version": 3
   },
   "file_extension": ".py",
   "mimetype": "text/x-python",
   "name": "python",
   "nbconvert_exporter": "python",
   "pygments_lexer": "ipython3",
   "version": "3.7.10"
  }
 },
 "nbformat": 4,
 "nbformat_minor": 1
}
