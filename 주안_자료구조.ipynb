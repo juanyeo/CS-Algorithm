{
  "nbformat": 4,
  "nbformat_minor": 0,
  "metadata": {
    "colab": {
      "name": "자료구조모음.ipynb",
      "provenance": [],
      "collapsed_sections": []
    },
    "kernelspec": {
      "name": "python3",
      "display_name": "Python 3"
    },
    "language_info": {
      "name": "python"
    }
  },
  "cells": [
    {
      "cell_type": "markdown",
      "source": [
        "# 자료구조 1. 배열\n",
        "\n",
        "> 파이썬은 list 타입으로 배열 구현  \n",
        "**장점:** index 로 조회 (빠름)  \n",
        "**단점:** 정해진 길이, 추가와 삭제 어려움 -> 파이썬에선 이런 단점 X (list != array)"
      ],
      "metadata": {
        "id": "5wsea-jUERFH"
      }
    },
    {
      "cell_type": "code",
      "source": [
        "list_1d = [2,3,5,7,11]\n",
        "list_2d = [[2, 4, 8], [3, 9, 27], [4, 16, 64]]"
      ],
      "metadata": {
        "id": "Hiryglk7ESry"
      },
      "execution_count": 2,
      "outputs": []
    },
    {
      "cell_type": "code",
      "source": [
        "print(list_1d[0])"
      ],
      "metadata": {
        "colab": {
          "base_uri": "https://localhost:8080/"
        },
        "id": "dzaAUQciGNZ8",
        "outputId": "324a4f1a-cf5e-4008-fc55-73265d5735a3"
      },
      "execution_count": 3,
      "outputs": [
        {
          "output_type": "stream",
          "name": "stdout",
          "text": [
            "2\n"
          ]
        }
      ]
    },
    {
      "cell_type": "code",
      "source": [
        "print(list_2d[0])"
      ],
      "metadata": {
        "colab": {
          "base_uri": "https://localhost:8080/"
        },
        "id": "46T2-QBVGb-5",
        "outputId": "1d136658-a10c-47d6-a5b0-a68a9107bf44"
      },
      "execution_count": 4,
      "outputs": [
        {
          "output_type": "stream",
          "name": "stdout",
          "text": [
            "[2, 4, 8]\n"
          ]
        }
      ]
    },
    {
      "cell_type": "code",
      "source": [
        "print(list_2d[0][1])"
      ],
      "metadata": {
        "colab": {
          "base_uri": "https://localhost:8080/"
        },
        "id": "VLKeI7aZGdzi",
        "outputId": "fd36554a-b606-48c0-8cb2-82a39091fb1d"
      },
      "execution_count": 5,
      "outputs": [
        {
          "output_type": "stream",
          "name": "stdout",
          "text": [
            "4\n"
          ]
        }
      ]
    },
    {
      "cell_type": "code",
      "source": [
        "for e1 in range(len(list_2d)):\n",
        "  for e2 in range(1,len(list_2d[e1])):\n",
        "    list_2d[e1][e2] += 1\n",
        "\n",
        "print(list_2d)"
      ],
      "metadata": {
        "colab": {
          "base_uri": "https://localhost:8080/"
        },
        "id": "P4U4Y_nXGhWr",
        "outputId": "25476db6-25a8-43c2-ae84-30f38fb8c545"
      },
      "execution_count": 7,
      "outputs": [
        {
          "output_type": "stream",
          "name": "stdout",
          "text": [
            "[[2, 5, 9], [3, 10, 28], [4, 17, 65]]\n"
          ]
        }
      ]
    },
    {
      "cell_type": "code",
      "source": [
        ""
      ],
      "metadata": {
        "id": "78PN_UGPHESi"
      },
      "execution_count": null,
      "outputs": []
    }
  ]
}