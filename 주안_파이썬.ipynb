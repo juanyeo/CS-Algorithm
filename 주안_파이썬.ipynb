{
 "cells": [
  {
   "cell_type": "markdown",
   "id": "32e2dfac",
   "metadata": {},
   "source": [
    "# Python 정리\n",
    "---\n"
   ]
  },
  {
   "cell_type": "code",
   "execution_count": 12,
   "id": "ae1f1d83",
   "metadata": {},
   "outputs": [
    {
     "name": "stdout",
     "output_type": "stream",
     "text": [
      "Hello Juan\n",
      "3.1416\n",
      "2, 8, 2.1\n"
     ]
    }
   ],
   "source": [
    "# print\n",
    "print('Hello Juan')\n",
    "print('%.4f' % 3.141592)\n",
    "print('{0}, {1}, {2:0.1f}'.format(2, 8, 2.14))"
   ]
  },
  {
   "cell_type": "code",
   "execution_count": 2,
   "id": "6b198b01",
   "metadata": {},
   "outputs": [
    {
     "name": "stdout",
     "output_type": "stream",
     "text": [
      "2\n",
      "2 entered\n"
     ]
    }
   ],
   "source": [
    "# input\n",
    "number = input()\n",
    "print(number + ' entered')"
   ]
  },
  {
   "cell_type": "code",
   "execution_count": 4,
   "id": "3f917506",
   "metadata": {},
   "outputs": [
    {
     "data": {
      "text/plain": [
       "{1, 2}"
      ]
     },
     "execution_count": 4,
     "metadata": {},
     "output_type": "execute_result"
    }
   ],
   "source": [
    "# type casting\n",
    "float(3) # int -> float\n",
    "int(3.0) # float -> int\n",
    "int('0x2c', 16) # hex -> int\n",
    "str(32) # other -> string\n",
    "\n",
    "tuple([1, 2]) # list -> tuple\n",
    "list((1, 2)) # tuple -> list\n",
    "set([1, 2, 2]) # list -> set"
   ]
  },
  {
   "cell_type": "code",
   "execution_count": 16,
   "id": "4d666b88",
   "metadata": {},
   "outputs": [
    {
     "data": {
      "text/plain": [
       "'be harry'"
      ]
     },
     "execution_count": 16,
     "metadata": {},
     "output_type": "execute_result"
    }
   ],
   "source": [
    "# string\n",
    "string1 = 'be happy'\n",
    "\n",
    "string1[1:5] # 'e ha'\n",
    "string1[3:-1] # 'happ'\n",
    "string1[-5:] # 'happy'\n",
    "\n",
    "list(string1) # ['b', 'e', ' ', 'h', 'a', 'p', 'p', 'y']\n",
    "string1.split(' ') # ['be', 'happy']\n",
    "string1.replace('ppy', 'rry') # 'be harry'"
   ]
  },
  {
   "cell_type": "code",
   "execution_count": 14,
   "id": "9607f1e1",
   "metadata": {},
   "outputs": [
    {
     "data": {
      "text/plain": [
       "[11, 21, 31]"
      ]
     },
     "execution_count": 14,
     "metadata": {},
     "output_type": "execute_result"
    }
   ],
   "source": [
    "# map\n",
    "def addOne(n):\n",
    "    return n + 1\n",
    "\n",
    "list_a = [10, 20, 30]\n",
    "\n",
    "list(map(addOne, list_a)) # map(함수명, 리스트)"
   ]
  },
  {
   "cell_type": "code",
   "execution_count": 42,
   "id": "a0ecb8f3",
   "metadata": {},
   "outputs": [],
   "source": [
    "# list\n",
    "list_b = [1, 2, 3]\n",
    "\n",
    "list_b.append(4) # list_b = [1, 2, 3, 4]\n",
    "list_b.insert(2, 5) # list_b = [1, 2, 5, 3, 4]\n",
    "\n",
    "list_b.sort() # list_b = [1, 2, 3, 4, 5]\n",
    "list_b.reverse() # list_b = [5, 4, 3, 2, 1]\n",
    "\n",
    "list_b.insert(3, 4) # list_b = [5, 4, 3, 4, 2, 1]\n",
    "list_b.remove(4) # list_b = [5, 3, 4, 2, 1]\n",
    "list_b.pop(1) # 3, list_b = [5, 4, 2, 1]\n",
    "\n",
    "list_b.extend([3, 7]) # list_b = [5, 4, 2, 1, 3, 7]\n",
    "list_b + [6, 5] # [5, 4, 2, 1, 3, 7, 6, 5]\n",
    "\n",
    "len(list_b) # 6\n",
    "list_b.index(2) # 2\n",
    "list_b.count(2) # 1\n",
    "\n",
    "del list_b[3] # list_b = [5, 4, 2, 3, 7]\n",
    "del list_b[2:] # lsit_b = [5, 4]"
   ]
  },
  {
   "cell_type": "code",
   "execution_count": 47,
   "id": "7d1861eb",
   "metadata": {},
   "outputs": [
    {
     "data": {
      "text/plain": [
       "[[1, 2], [3]]"
      ]
     },
     "execution_count": 47,
     "metadata": {},
     "output_type": "execute_result"
    }
   ],
   "source": [
    "# shallow copy & deep copy\n",
    "\n",
    "# shallow copy (=, copy())\n",
    "list_c = [1, 2, 3]\n",
    "list_d = list_c\n",
    "\n",
    "list_c.append(4) \n",
    "list_d # [1, 2, 3, 4]\n",
    "\n",
    "# shallow copy.. partly? (= [:])\n",
    "list_c = [1, 2, 3]\n",
    "list_d = list_c[:]\n",
    "\n",
    "list_c.append(4) \n",
    "list_d # [1, 2, 3] -> 하지만 이 방식도 2차원 이상 리스트 경우 문제 발생\n",
    "\n",
    "# deep copy\n",
    "import copy\n",
    "\n",
    "list_c = [[1, 2], [3]]\n",
    "list_d = copy.deepcopy(list_c)\n",
    "\n",
    "list_c[1].append(4) \n",
    "list_d # [[1, 2], [3]]"
   ]
  },
  {
   "cell_type": "code",
   "execution_count": 49,
   "id": "d877acdd",
   "metadata": {},
   "outputs": [],
   "source": [
    "# dictionary\n",
    "dictionary = {'install': '설치하다', 'implement': '구현하다', 'illustrate': '설명하다'}\n",
    "\n",
    "keys = [e for e in dictionary.keys()]\n",
    "values = [e for e in dictionary.values()]"
   ]
  },
  {
   "cell_type": "code",
   "execution_count": 60,
   "id": "713d6eed",
   "metadata": {},
   "outputs": [
    {
     "data": {
      "text/plain": [
       "'0000'"
      ]
     },
     "execution_count": 60,
     "metadata": {},
     "output_type": "execute_result"
    }
   ],
   "source": [
    "# Object Oriented Programming\n",
    "class Phone:\n",
    "    phone_number = '010-0000-0000'\n",
    "    price = 120\n",
    "    '''\n",
    "    변수명, 함수명에 _ 를 붙이면 경고의 의미이고, __ 를 붙이면 실제 접근이 제한됨 (private), 사실 이름이 '_클래스명__변수명'으로 바뀜\n",
    "    '''\n",
    "    __password = '0000'\n",
    "    \n",
    "    def __init__(self, price=120):\n",
    "        self.price = price\n",
    "    \n",
    "    def get_number(self):\n",
    "        return self.phone_number\n",
    "    \n",
    "    def change_number(self, new_number):\n",
    "        self.phone_number = new_number\n",
    "        \n",
    "phone1 = Phone(200)\n",
    "phone1.change_number('010-1111-2222')\n",
    "phone1.get_number()\n",
    "phone1.price\n",
    "phone1._Phone__password\n",
    "\n",
    "# dir(phone1)"
   ]
  },
  {
   "cell_type": "code",
   "execution_count": null,
   "id": "b60af146",
   "metadata": {},
   "outputs": [],
   "source": []
  }
 ],
 "metadata": {
  "kernelspec": {
   "display_name": "Python 3",
   "language": "python",
   "name": "python3"
  },
  "language_info": {
   "codemirror_mode": {
    "name": "ipython",
    "version": 3
   },
   "file_extension": ".py",
   "mimetype": "text/x-python",
   "name": "python",
   "nbconvert_exporter": "python",
   "pygments_lexer": "ipython3",
   "version": "3.8.8"
  }
 },
 "nbformat": 4,
 "nbformat_minor": 5
}
